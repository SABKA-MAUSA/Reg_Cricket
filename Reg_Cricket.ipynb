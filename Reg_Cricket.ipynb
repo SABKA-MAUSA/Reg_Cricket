{
 "cells": [
  {
   "cell_type": "code",
   "execution_count": 38,
   "id": "3be5c3af",
   "metadata": {},
   "outputs": [],
   "source": [
    "# here i have imported all the necessary libraries.\n",
    "\n",
    "import pandas as pd\n",
    "import numpy as np\n",
    "import matplotlib.pyplot as plt\n",
    "from sklearn import linear_model"
   ]
  },
  {
   "cell_type": "code",
   "execution_count": 39,
   "id": "18318ff3",
   "metadata": {},
   "outputs": [
    {
     "data": {
      "text/html": [
       "<div>\n",
       "<style scoped>\n",
       "    .dataframe tbody tr th:only-of-type {\n",
       "        vertical-align: middle;\n",
       "    }\n",
       "\n",
       "    .dataframe tbody tr th {\n",
       "        vertical-align: top;\n",
       "    }\n",
       "\n",
       "    .dataframe thead th {\n",
       "        text-align: right;\n",
       "    }\n",
       "</style>\n",
       "<table border=\"1\" class=\"dataframe\">\n",
       "  <thead>\n",
       "    <tr style=\"text-align: right;\">\n",
       "      <th></th>\n",
       "      <th>Player</th>\n",
       "      <th>Mat</th>\n",
       "      <th>Inns</th>\n",
       "      <th>NO</th>\n",
       "      <th>Runs</th>\n",
       "      <th>HS</th>\n",
       "      <th>Avg</th>\n",
       "      <th>BF</th>\n",
       "      <th>SR</th>\n",
       "      <th>100</th>\n",
       "      <th>50</th>\n",
       "      <th>4s</th>\n",
       "    </tr>\n",
       "  </thead>\n",
       "  <tbody>\n",
       "    <tr>\n",
       "      <th>0</th>\n",
       "      <td>Jos Buttler</td>\n",
       "      <td>17</td>\n",
       "      <td>17</td>\n",
       "      <td>2</td>\n",
       "      <td>863</td>\n",
       "      <td>116</td>\n",
       "      <td>57.53</td>\n",
       "      <td>579</td>\n",
       "      <td>149.05</td>\n",
       "      <td>4</td>\n",
       "      <td>4</td>\n",
       "      <td>83</td>\n",
       "    </tr>\n",
       "    <tr>\n",
       "      <th>1</th>\n",
       "      <td>K L Rahul</td>\n",
       "      <td>15</td>\n",
       "      <td>15</td>\n",
       "      <td>3</td>\n",
       "      <td>616</td>\n",
       "      <td>103*</td>\n",
       "      <td>51.33</td>\n",
       "      <td>455</td>\n",
       "      <td>135.38</td>\n",
       "      <td>2</td>\n",
       "      <td>4</td>\n",
       "      <td>45</td>\n",
       "    </tr>\n",
       "    <tr>\n",
       "      <th>2</th>\n",
       "      <td>Quinton De Kock</td>\n",
       "      <td>15</td>\n",
       "      <td>15</td>\n",
       "      <td>1</td>\n",
       "      <td>508</td>\n",
       "      <td>140*</td>\n",
       "      <td>36.29</td>\n",
       "      <td>341</td>\n",
       "      <td>148.97</td>\n",
       "      <td>1</td>\n",
       "      <td>3</td>\n",
       "      <td>47</td>\n",
       "    </tr>\n",
       "    <tr>\n",
       "      <th>3</th>\n",
       "      <td>Hardik Pandya</td>\n",
       "      <td>15</td>\n",
       "      <td>15</td>\n",
       "      <td>4</td>\n",
       "      <td>487</td>\n",
       "      <td>87*</td>\n",
       "      <td>44.27</td>\n",
       "      <td>371</td>\n",
       "      <td>131.26</td>\n",
       "      <td>0</td>\n",
       "      <td>4</td>\n",
       "      <td>49</td>\n",
       "    </tr>\n",
       "    <tr>\n",
       "      <th>4</th>\n",
       "      <td>Shubman Gill</td>\n",
       "      <td>16</td>\n",
       "      <td>16</td>\n",
       "      <td>2</td>\n",
       "      <td>483</td>\n",
       "      <td>96</td>\n",
       "      <td>34.5</td>\n",
       "      <td>365</td>\n",
       "      <td>132.32</td>\n",
       "      <td>0</td>\n",
       "      <td>4</td>\n",
       "      <td>51</td>\n",
       "    </tr>\n",
       "    <tr>\n",
       "      <th>...</th>\n",
       "      <td>...</td>\n",
       "      <td>...</td>\n",
       "      <td>...</td>\n",
       "      <td>...</td>\n",
       "      <td>...</td>\n",
       "      <td>...</td>\n",
       "      <td>...</td>\n",
       "      <td>...</td>\n",
       "      <td>...</td>\n",
       "      <td>...</td>\n",
       "      <td>...</td>\n",
       "      <td>...</td>\n",
       "    </tr>\n",
       "    <tr>\n",
       "      <th>157</th>\n",
       "      <td>Fazalhaq Farooqi</td>\n",
       "      <td>3</td>\n",
       "      <td>1</td>\n",
       "      <td>1</td>\n",
       "      <td>2</td>\n",
       "      <td>2*</td>\n",
       "      <td>-</td>\n",
       "      <td>8</td>\n",
       "      <td>25.00</td>\n",
       "      <td>0</td>\n",
       "      <td>0</td>\n",
       "      <td>0</td>\n",
       "    </tr>\n",
       "    <tr>\n",
       "      <th>158</th>\n",
       "      <td>Jagadeesha Suchith</td>\n",
       "      <td>5</td>\n",
       "      <td>2</td>\n",
       "      <td>0</td>\n",
       "      <td>2</td>\n",
       "      <td>2</td>\n",
       "      <td>1</td>\n",
       "      <td>8</td>\n",
       "      <td>25.00</td>\n",
       "      <td>0</td>\n",
       "      <td>0</td>\n",
       "      <td>0</td>\n",
       "    </tr>\n",
       "    <tr>\n",
       "      <th>159</th>\n",
       "      <td>Tim Southee</td>\n",
       "      <td>9</td>\n",
       "      <td>5</td>\n",
       "      <td>1</td>\n",
       "      <td>2</td>\n",
       "      <td>1*</td>\n",
       "      <td>0.5</td>\n",
       "      <td>12</td>\n",
       "      <td>16.66</td>\n",
       "      <td>0</td>\n",
       "      <td>0</td>\n",
       "      <td>0</td>\n",
       "    </tr>\n",
       "    <tr>\n",
       "      <th>160</th>\n",
       "      <td>Nathan Coulter-Nile</td>\n",
       "      <td>1</td>\n",
       "      <td>1</td>\n",
       "      <td>1</td>\n",
       "      <td>1</td>\n",
       "      <td>1*</td>\n",
       "      <td>-</td>\n",
       "      <td>2</td>\n",
       "      <td>50.00</td>\n",
       "      <td>0</td>\n",
       "      <td>0</td>\n",
       "      <td>0</td>\n",
       "    </tr>\n",
       "    <tr>\n",
       "      <th>161</th>\n",
       "      <td>Anrich Nortje</td>\n",
       "      <td>6</td>\n",
       "      <td>1</td>\n",
       "      <td>1</td>\n",
       "      <td>1</td>\n",
       "      <td>1*</td>\n",
       "      <td>-</td>\n",
       "      <td>6</td>\n",
       "      <td>16.66</td>\n",
       "      <td>0</td>\n",
       "      <td>0</td>\n",
       "      <td>0</td>\n",
       "    </tr>\n",
       "  </tbody>\n",
       "</table>\n",
       "<p>162 rows × 12 columns</p>\n",
       "</div>"
      ],
      "text/plain": [
       "                  Player  Mat  Inns  NO  Runs    HS    Avg   BF      SR  100  \\\n",
       "0            Jos Buttler   17    17   2   863   116  57.53  579  149.05    4   \n",
       "1              K L Rahul   15    15   3   616  103*  51.33  455  135.38    2   \n",
       "2        Quinton De Kock   15    15   1   508  140*  36.29  341  148.97    1   \n",
       "3          Hardik Pandya   15    15   4   487   87*  44.27  371  131.26    0   \n",
       "4           Shubman Gill   16    16   2   483    96   34.5  365  132.32    0   \n",
       "..                   ...  ...   ...  ..   ...   ...    ...  ...     ...  ...   \n",
       "157     Fazalhaq Farooqi    3     1   1     2    2*      -    8   25.00    0   \n",
       "158   Jagadeesha Suchith    5     2   0     2     2      1    8   25.00    0   \n",
       "159          Tim Southee    9     5   1     2    1*    0.5   12   16.66    0   \n",
       "160  Nathan Coulter-Nile    1     1   1     1    1*      -    2   50.00    0   \n",
       "161        Anrich Nortje    6     1   1     1    1*      -    6   16.66    0   \n",
       "\n",
       "     50  4s  \n",
       "0     4  83  \n",
       "1     4  45  \n",
       "2     3  47  \n",
       "3     4  49  \n",
       "4     4  51  \n",
       "..   ..  ..  \n",
       "157   0   0  \n",
       "158   0   0  \n",
       "159   0   0  \n",
       "160   0   0  \n",
       "161   0   0  \n",
       "\n",
       "[162 rows x 12 columns]"
      ]
     },
     "execution_count": 39,
     "metadata": {},
     "output_type": "execute_result"
    }
   ],
   "source": [
    "# here i have loaded the required csv file.\n",
    "\n",
    "\n",
    "df=pd.read_csv(\"IPL 2022 Batters.csv\")\n",
    "df"
   ]
  },
  {
   "cell_type": "code",
   "execution_count": 40,
   "id": "69eb8c31",
   "metadata": {},
   "outputs": [
    {
     "data": {
      "text/plain": [
       "<matplotlib.collections.PathCollection at 0x1fe9f34b2d0>"
      ]
     },
     "execution_count": 40,
     "metadata": {},
     "output_type": "execute_result"
    },
    {
     "data": {
      "image/png": "[encoded data removed]",
      "text/plain": [
       "<Figure size 640x480 with 1 Axes>"
      ]
     },
     "metadata": {},
     "output_type": "display_data"
    }
   ],
   "source": [
    "# here i have plotted the 'total runs' VS '4s hits'\n",
    "\n",
    "\n",
    "%matplotlib inline\n",
    "plt.xlabel('Total Runs')\n",
    "plt.ylabel('4s hits')\n",
    "plt.scatter(df.Runs,df.iloc[:,11],color='red',marker='+')"
   ]
  },
  {
   "cell_type": "raw",
   "id": "f08f8b49",
   "metadata": {},
   "source": [
    "\n"
   ]
  },
  {
   "cell_type": "code",
   "execution_count": 41,
   "id": "866b6281",
   "metadata": {},
   "outputs": [
    {
     "data": {
      "text/html": [
       "<style>#sk-container-id-4 {color: black;background-color: white;}#sk-container-id-4 pre{padding: 0;}#sk-container-id-4 div.sk-toggleable {background-color: white;}#sk-container-id-4 label.sk-toggleable__label {cursor: pointer;display: block;width: 100%;margin-bottom: 0;padding: 0.3em;box-sizing: border-box;text-align: center;}#sk-container-id-4 label.sk-toggleable__label-arrow:before {content: \"▸\";float: left;margin-right: 0.25em;color: #696969;}#sk-container-id-4 label.sk-toggleable__label-arrow:hover:before {color: black;}#sk-container-id-4 div.sk-estimator:hover label.sk-toggleable__label-arrow:before {color: black;}#sk-container-id-4 div.sk-toggleable__content {max-height: 0;max-width: 0;overflow: hidden;text-align: left;background-color: #f0f8ff;}#sk-container-id-4 div.sk-toggleable__content pre {margin: 0.2em;color: black;border-radius: 0.25em;background-color: #f0f8ff;}#sk-container-id-4 input.sk-toggleable__control:checked~div.sk-toggleable__content {max-height: 200px;max-width: 100%;overflow: auto;}#sk-container-id-4 input.sk-toggleable__control:checked~label.sk-toggleable__label-arrow:before {content: \"▾\";}#sk-container-id-4 div.sk-estimator input.sk-toggleable__control:checked~label.sk-toggleable__label {background-color: #d4ebff;}#sk-container-id-4 div.sk-label input.sk-toggleable__control:checked~label.sk-toggleable__label {background-color: #d4ebff;}#sk-container-id-4 input.sk-hidden--visually {border: 0;clip: rect(1px 1px 1px 1px);clip: rect(1px, 1px, 1px, 1px);height: 1px;margin: -1px;overflow: hidden;padding: 0;position: absolute;width: 1px;}#sk-container-id-4 div.sk-estimator {font-family: monospace;background-color: #f0f8ff;border: 1px dotted black;border-radius: 0.25em;box-sizing: border-box;margin-bottom: 0.5em;}#sk-container-id-4 div.sk-estimator:hover {background-color: #d4ebff;}#sk-container-id-4 div.sk-parallel-item::after {content: \"\";width: 100%;border-bottom: 1px solid gray;flex-grow: 1;}#sk-container-id-4 div.sk-label:hover label.sk-toggleable__label {background-color: #d4ebff;}#sk-container-id-4 div.sk-serial::before {content: \"\";position: absolute;border-left: 1px solid gray;box-sizing: border-box;top: 0;bottom: 0;left: 50%;z-index: 0;}#sk-container-id-4 div.sk-serial {display: flex;flex-direction: column;align-items: center;background-color: white;padding-right: 0.2em;padding-left: 0.2em;position: relative;}#sk-container-id-4 div.sk-item {position: relative;z-index: 1;}#sk-container-id-4 div.sk-parallel {display: flex;align-items: stretch;justify-content: center;background-color: white;position: relative;}#sk-container-id-4 div.sk-item::before, #sk-container-id-4 div.sk-parallel-item::before {content: \"\";position: absolute;border-left: 1px solid gray;box-sizing: border-box;top: 0;bottom: 0;left: 50%;z-index: -1;}#sk-container-id-4 div.sk-parallel-item {display: flex;flex-direction: column;z-index: 1;position: relative;background-color: white;}#sk-container-id-4 div.sk-parallel-item:first-child::after {align-self: flex-end;width: 50%;}#sk-container-id-4 div.sk-parallel-item:last-child::after {align-self: flex-start;width: 50%;}#sk-container-id-4 div.sk-parallel-item:only-child::after {width: 0;}#sk-container-id-4 div.sk-dashed-wrapped {border: 1px dashed gray;margin: 0 0.4em 0.5em 0.4em;box-sizing: border-box;padding-bottom: 0.4em;background-color: white;}#sk-container-id-4 div.sk-label label {font-family: monospace;font-weight: bold;display: inline-block;line-height: 1.2em;}#sk-container-id-4 div.sk-label-container {text-align: center;}#sk-container-id-4 div.sk-container {/* jupyter's `normalize.less` sets `[hidden] { display: none; }` but bootstrap.min.css set `[hidden] { display: none !important; }` so we also need the `!important` here to be able to override the default hidden behavior on the sphinx rendered scikit-learn.org. See: https://github.com/scikit-learn/scikit-learn/issues/21755 */display: inline-block !important;position: relative;}#sk-container-id-4 div.sk-text-repr-fallback {display: none;}</style><div id=\"sk-container-id-4\" class=\"sk-top-container\"><div class=\"sk-text-repr-fallback\"><pre>LinearRegression()</pre><b>In a Jupyter environment, please rerun this cell to show the HTML representation or trust the notebook. <br />On GitHub, the HTML representation is unable to render, please try loading this page with nbviewer.org.</b></div><div class=\"sk-container\" hidden><div class=\"sk-item\"><div class=\"sk-estimator sk-toggleable\"><input class=\"sk-toggleable__control sk-hidden--visually\" id=\"sk-estimator-id-4\" type=\"checkbox\" checked><label for=\"sk-estimator-id-4\" class=\"sk-toggleable__label sk-toggleable__label-arrow\">LinearRegression</label><div class=\"sk-toggleable__content\"><pre>LinearRegression()</pre></div></div></div></div></div>"
      ],
      "text/plain": [
       "LinearRegression()"
      ]
     },
     "execution_count": 41,
     "metadata": {},
     "output_type": "execute_result"
    }
   ],
   "source": [
    "# here is have used the linear regression function from sklearn as per the question\n",
    "\n",
    "\n",
    "reg =linear_model.LinearRegression()\n",
    "reg.fit(df[['Runs']], df.iloc[:,11])\n"
   ]
  },
  {
   "cell_type": "code",
   "execution_count": 42,
   "id": "d7168504",
   "metadata": {},
   "outputs": [
    {
     "name": "stderr",
     "output_type": "stream",
     "text": [
      "C:\\Users\\ASUS\\AppData\\Local\\Programs\\Python\\Python311\\Lib\\site-packages\\sklearn\\base.py:439: UserWarning: X does not have valid feature names, but LinearRegression was fitted with feature names\n",
      "  warnings.warn(\n"
     ]
    },
    {
     "data": {
      "text/plain": [
       "array([29.62156432])"
      ]
     },
     "execution_count": 42,
     "metadata": {},
     "output_type": "execute_result"
    }
   ],
   "source": [
    "# here i have predicted some the values on the basis of given data\n",
    "\n",
    "\n",
    "reg.predict([[330]])"
   ]
  },
  {
   "cell_type": "code",
   "execution_count": 43,
   "id": "bbccf221",
   "metadata": {},
   "outputs": [
    {
     "name": "stderr",
     "output_type": "stream",
     "text": [
      "C:\\Users\\ASUS\\AppData\\Local\\Programs\\Python\\Python311\\Lib\\site-packages\\sklearn\\base.py:439: UserWarning: X does not have valid feature names, but LinearRegression was fitted with feature names\n",
      "  warnings.warn(\n"
     ]
    },
    {
     "data": {
      "text/plain": [
       "array([3.55004943])"
      ]
     },
     "execution_count": 43,
     "metadata": {},
     "output_type": "execute_result"
    }
   ],
   "source": [
    "reg.predict([[45]])"
   ]
  },
  {
   "cell_type": "code",
   "execution_count": 44,
   "id": "ee1642a5",
   "metadata": {},
   "outputs": [
    {
     "data": {
      "text/plain": [
       "[<matplotlib.lines.Line2D at 0x1fe9f381ad0>]"
      ]
     },
     "execution_count": 44,
     "metadata": {},
     "output_type": "execute_result"
    },
    {
     "data": {
      "image/png": "[encoded data removed]",
      "text/plain": [
       "<Figure size 640x480 with 1 Axes>"
      ]
     },
     "metadata": {},
     "output_type": "display_data"
    }
   ],
   "source": [
    "# here i have plotted the best fitted line .\n",
    "\n",
    "\n",
    "%matplotlib inline\n",
    "plt.xlabel('Total Runs')\n",
    "plt.ylabel('4s hits')\n",
    "plt.scatter(df.Runs,df.iloc[:,11],color='red',marker='+')\n",
    "plt.plot(df.Runs,reg.predict(df[['Runs']]),color='blue')"
   ]
  },
  {
   "cell_type": "code",
   "execution_count": 45,
   "id": "7675732a",
   "metadata": {},
   "outputs": [
    {
     "data": {
      "text/html": [
       "<div>\n",
       "<style scoped>\n",
       "    .dataframe tbody tr th:only-of-type {\n",
       "        vertical-align: middle;\n",
       "    }\n",
       "\n",
       "    .dataframe tbody tr th {\n",
       "        vertical-align: top;\n",
       "    }\n",
       "\n",
       "    .dataframe thead th {\n",
       "        text-align: right;\n",
       "    }\n",
       "</style>\n",
       "<table border=\"1\" class=\"dataframe\">\n",
       "  <thead>\n",
       "    <tr style=\"text-align: right;\">\n",
       "      <th></th>\n",
       "      <th>Runs</th>\n",
       "    </tr>\n",
       "  </thead>\n",
       "  <tbody>\n",
       "    <tr>\n",
       "      <th>0</th>\n",
       "      <td>863</td>\n",
       "    </tr>\n",
       "    <tr>\n",
       "      <th>1</th>\n",
       "      <td>616</td>\n",
       "    </tr>\n",
       "    <tr>\n",
       "      <th>2</th>\n",
       "      <td>508</td>\n",
       "    </tr>\n",
       "    <tr>\n",
       "      <th>3</th>\n",
       "      <td>487</td>\n",
       "    </tr>\n",
       "    <tr>\n",
       "      <th>4</th>\n",
       "      <td>483</td>\n",
       "    </tr>\n",
       "    <tr>\n",
       "      <th>...</th>\n",
       "      <td>...</td>\n",
       "    </tr>\n",
       "    <tr>\n",
       "      <th>157</th>\n",
       "      <td>2</td>\n",
       "    </tr>\n",
       "    <tr>\n",
       "      <th>158</th>\n",
       "      <td>2</td>\n",
       "    </tr>\n",
       "    <tr>\n",
       "      <th>159</th>\n",
       "      <td>2</td>\n",
       "    </tr>\n",
       "    <tr>\n",
       "      <th>160</th>\n",
       "      <td>1</td>\n",
       "    </tr>\n",
       "    <tr>\n",
       "      <th>161</th>\n",
       "      <td>1</td>\n",
       "    </tr>\n",
       "  </tbody>\n",
       "</table>\n",
       "<p>162 rows × 1 columns</p>\n",
       "</div>"
      ],
      "text/plain": [
       "     Runs\n",
       "0     863\n",
       "1     616\n",
       "2     508\n",
       "3     487\n",
       "4     483\n",
       "..    ...\n",
       "157     2\n",
       "158     2\n",
       "159     2\n",
       "160     1\n",
       "161     1\n",
       "\n",
       "[162 rows x 1 columns]"
      ]
     },
     "execution_count": 45,
     "metadata": {},
     "output_type": "execute_result"
    }
   ],
   "source": [
    "# here i have created a new dataframe in which i stored only one column named as 'runs'\n",
    "\n",
    "df1= pd.read_csv(\"IPL 2022 Batters.csv\", usecols=['Runs'])\n",
    "df1"
   ]
  },
  {
   "cell_type": "code",
   "execution_count": 46,
   "id": "fff9b88c",
   "metadata": {},
   "outputs": [],
   "source": [
    "# here i have the 'runs ' in a another variable p\n",
    "\n",
    "p= reg.predict(df1)"
   ]
  },
  {
   "cell_type": "code",
   "execution_count": 47,
   "id": "fed7f89d",
   "metadata": {},
   "outputs": [
    {
     "data": {
      "text/html": [
       "<div>\n",
       "<style scoped>\n",
       "    .dataframe tbody tr th:only-of-type {\n",
       "        vertical-align: middle;\n",
       "    }\n",
       "\n",
       "    .dataframe tbody tr th {\n",
       "        vertical-align: top;\n",
       "    }\n",
       "\n",
       "    .dataframe thead th {\n",
       "        text-align: right;\n",
       "    }\n",
       "</style>\n",
       "<table border=\"1\" class=\"dataframe\">\n",
       "  <thead>\n",
       "    <tr style=\"text-align: right;\">\n",
       "      <th></th>\n",
       "      <th>Runs</th>\n",
       "      <th>4s hits</th>\n",
       "    </tr>\n",
       "  </thead>\n",
       "  <tbody>\n",
       "    <tr>\n",
       "      <th>0</th>\n",
       "      <td>863</td>\n",
       "      <td>78.379871</td>\n",
       "    </tr>\n",
       "    <tr>\n",
       "      <th>1</th>\n",
       "      <td>616</td>\n",
       "      <td>55.784558</td>\n",
       "    </tr>\n",
       "    <tr>\n",
       "      <th>2</th>\n",
       "      <td>508</td>\n",
       "      <td>45.904826</td>\n",
       "    </tr>\n",
       "    <tr>\n",
       "      <th>3</th>\n",
       "      <td>487</td>\n",
       "      <td>43.983767</td>\n",
       "    </tr>\n",
       "    <tr>\n",
       "      <th>4</th>\n",
       "      <td>483</td>\n",
       "      <td>43.617851</td>\n",
       "    </tr>\n",
       "    <tr>\n",
       "      <th>...</th>\n",
       "      <td>...</td>\n",
       "      <td>...</td>\n",
       "    </tr>\n",
       "    <tr>\n",
       "      <th>157</th>\n",
       "      <td>2</td>\n",
       "      <td>-0.383548</td>\n",
       "    </tr>\n",
       "    <tr>\n",
       "      <th>158</th>\n",
       "      <td>2</td>\n",
       "      <td>-0.383548</td>\n",
       "    </tr>\n",
       "    <tr>\n",
       "      <th>159</th>\n",
       "      <td>2</td>\n",
       "      <td>-0.383548</td>\n",
       "    </tr>\n",
       "    <tr>\n",
       "      <th>160</th>\n",
       "      <td>1</td>\n",
       "      <td>-0.475027</td>\n",
       "    </tr>\n",
       "    <tr>\n",
       "      <th>161</th>\n",
       "      <td>1</td>\n",
       "      <td>-0.475027</td>\n",
       "    </tr>\n",
       "  </tbody>\n",
       "</table>\n",
       "<p>162 rows × 2 columns</p>\n",
       "</div>"
      ],
      "text/plain": [
       "     Runs    4s hits\n",
       "0     863  78.379871\n",
       "1     616  55.784558\n",
       "2     508  45.904826\n",
       "3     487  43.983767\n",
       "4     483  43.617851\n",
       "..    ...        ...\n",
       "157     2  -0.383548\n",
       "158     2  -0.383548\n",
       "159     2  -0.383548\n",
       "160     1  -0.475027\n",
       "161     1  -0.475027\n",
       "\n",
       "[162 rows x 2 columns]"
      ]
     },
     "execution_count": 47,
     "metadata": {},
     "output_type": "execute_result"
    }
   ],
   "source": [
    "# here i have created a new dataframe containing Runs and 4s hits.\n",
    "\n",
    "df1['4s hits'] = p\n",
    "df1\n"
   ]
  },
  {
   "cell_type": "code",
   "execution_count": 48,
   "id": "e9496af4",
   "metadata": {},
   "outputs": [],
   "source": [
    "# here i have imported in a new csv file.\n",
    "\n",
    "df1.to_csv(\"Predictions.csv\",index=False)"
   ]
  },
  {
   "cell_type": "code",
   "execution_count": 49,
   "id": "068bdeb5",
   "metadata": {},
   "outputs": [],
   "source": [
    "# here i have named two variables for linear regression.\n",
    "\n",
    "X=df1.iloc[:,:-1].values\n",
    "y=df1.iloc[:,1].values"
   ]
  },
  {
   "cell_type": "code",
   "execution_count": 50,
   "id": "759385ac",
   "metadata": {},
   "outputs": [
    {
     "data": {
      "text/plain": [
       "array([[863],\n",
       "       [616],\n",
       "       [508],\n",
       "       [487],\n",
       "       [483],\n",
       "       [481],\n",
       "       [468],\n",
       "       [460],\n",
       "       [458],\n",
       "       [451],\n",
       "       [437],\n",
       "       [432],\n",
       "       [426],\n",
       "       [418],\n",
       "       [413],\n",
       "       [401],\n",
       "       [397],\n",
       "       [381],\n",
       "       [376],\n",
       "       [368],\n",
       "       [361],\n",
       "       [341],\n",
       "       [340],\n",
       "       [335],\n",
       "       [333],\n",
       "       [330],\n",
       "       [317],\n",
       "       [314],\n",
       "       [306],\n",
       "       [303],\n",
       "       [301],\n",
       "       [289],\n",
       "       [283],\n",
       "       [274],\n",
       "       [268],\n",
       "       [258],\n",
       "       [253],\n",
       "       [252],\n",
       "       [251],\n",
       "       [250],\n",
       "       [244],\n",
       "       [234],\n",
       "       [232],\n",
       "       [230],\n",
       "       [219],\n",
       "       [217],\n",
       "       [216],\n",
       "       [206],\n",
       "       [196],\n",
       "       [191],\n",
       "       [186],\n",
       "       [183],\n",
       "       [183],\n",
       "       [182],\n",
       "       [182],\n",
       "       [174],\n",
       "       [169],\n",
       "       [161],\n",
       "       [161],\n",
       "       [161],\n",
       "       [157],\n",
       "       [156],\n",
       "       [145],\n",
       "       [144],\n",
       "       [133],\n",
       "       [129],\n",
       "       [120],\n",
       "       [117],\n",
       "       [116],\n",
       "       [108],\n",
       "       [101],\n",
       "       [ 91],\n",
       "       [ 91],\n",
       "       [ 88],\n",
       "       [ 86],\n",
       "       [ 86],\n",
       "       [ 77],\n",
       "       [ 73],\n",
       "       [ 71],\n",
       "       [ 69],\n",
       "       [ 67],\n",
       "       [ 63],\n",
       "       [ 59],\n",
       "       [ 58],\n",
       "       [ 58],\n",
       "       [ 55],\n",
       "       [ 51],\n",
       "       [ 48],\n",
       "       [ 48],\n",
       "       [ 46],\n",
       "       [ 45],\n",
       "       [ 44],\n",
       "       [ 43],\n",
       "       [ 43],\n",
       "       [ 43],\n",
       "       [ 40],\n",
       "       [ 40],\n",
       "       [ 38],\n",
       "       [ 38],\n",
       "       [ 37],\n",
       "       [ 33],\n",
       "       [ 33],\n",
       "       [ 31],\n",
       "       [ 30],\n",
       "       [ 24],\n",
       "       [ 24],\n",
       "       [ 23],\n",
       "       [ 23],\n",
       "       [ 23],\n",
       "       [ 22],\n",
       "       [ 22],\n",
       "       [ 22],\n",
       "       [ 22],\n",
       "       [ 21],\n",
       "       [ 21],\n",
       "       [ 19],\n",
       "       [ 19],\n",
       "       [ 18],\n",
       "       [ 18],\n",
       "       [ 18],\n",
       "       [ 16],\n",
       "       [ 14],\n",
       "       [ 13],\n",
       "       [ 12],\n",
       "       [ 12],\n",
       "       [ 11],\n",
       "       [ 11],\n",
       "       [  9],\n",
       "       [  9],\n",
       "       [  8],\n",
       "       [  8],\n",
       "       [  8],\n",
       "       [  7],\n",
       "       [  7],\n",
       "       [  7],\n",
       "       [  7],\n",
       "       [  7],\n",
       "       [  6],\n",
       "       [  6],\n",
       "       [  6],\n",
       "       [  5],\n",
       "       [  5],\n",
       "       [  5],\n",
       "       [  5],\n",
       "       [  5],\n",
       "       [  4],\n",
       "       [  4],\n",
       "       [  4],\n",
       "       [  4],\n",
       "       [  4],\n",
       "       [  3],\n",
       "       [  3],\n",
       "       [  3],\n",
       "       [  2],\n",
       "       [  2],\n",
       "       [  2],\n",
       "       [  2],\n",
       "       [  2],\n",
       "       [  2],\n",
       "       [  2],\n",
       "       [  1],\n",
       "       [  1]], dtype=int64)"
      ]
     },
     "execution_count": 50,
     "metadata": {},
     "output_type": "execute_result"
    }
   ],
   "source": [
    "X"
   ]
  },
  {
   "cell_type": "code",
   "execution_count": 51,
   "id": "1cce49e6",
   "metadata": {},
   "outputs": [
    {
     "data": {
      "text/plain": [
       "array([ 7.83798711e+01,  5.57845582e+01,  4.59048263e+01,  4.39837673e+01,\n",
       "        4.36178513e+01,  4.34348933e+01,  4.22456663e+01,  4.15138343e+01,\n",
       "        4.13308763e+01,  4.06905233e+01,  3.94098173e+01,  3.89524223e+01,\n",
       "        3.84035483e+01,  3.76717163e+01,  3.72143213e+01,  3.61165733e+01,\n",
       "        3.57506573e+01,  3.42869933e+01,  3.38295983e+01,  3.30977663e+01,\n",
       "        3.24574133e+01,  3.06278333e+01,  3.05363543e+01,  3.00789593e+01,\n",
       "        2.98960013e+01,  2.96215643e+01,  2.84323373e+01,  2.81579003e+01,\n",
       "        2.74260683e+01,  2.71516313e+01,  2.69686733e+01,  2.58709253e+01,\n",
       "        2.53220513e+01,  2.44987403e+01,  2.39498663e+01,  2.30350763e+01,\n",
       "        2.25776814e+01,  2.24862024e+01,  2.23947234e+01,  2.23032444e+01,\n",
       "        2.17543704e+01,  2.08395804e+01,  2.06566224e+01,  2.04736644e+01,\n",
       "        1.94673954e+01,  1.92844374e+01,  1.91929584e+01,  1.82781684e+01,\n",
       "        1.73633784e+01,  1.69059834e+01,  1.64485884e+01,  1.61741514e+01,\n",
       "        1.61741514e+01,  1.60826724e+01,  1.60826724e+01,  1.53508404e+01,\n",
       "        1.48934454e+01,  1.41616134e+01,  1.41616134e+01,  1.41616134e+01,\n",
       "        1.37956974e+01,  1.37042184e+01,  1.26979494e+01,  1.26064704e+01,\n",
       "        1.16002014e+01,  1.12342854e+01,  1.04109744e+01,  1.01365374e+01,\n",
       "        1.00450584e+01,  9.31322641e+00,  8.67287341e+00,  7.75808342e+00,\n",
       "        7.75808342e+00,  7.48364642e+00,  7.30068842e+00,  7.30068842e+00,\n",
       "        6.47737742e+00,  6.11146142e+00,  5.92850342e+00,  5.74554542e+00,\n",
       "        5.56258742e+00,  5.19667143e+00,  4.83075543e+00,  4.73927643e+00,\n",
       "        4.73927643e+00,  4.46483943e+00,  4.09892343e+00,  3.82448643e+00,\n",
       "        3.82448643e+00,  3.64152843e+00,  3.55004943e+00,  3.45857043e+00,\n",
       "        3.36709143e+00,  3.36709143e+00,  3.36709143e+00,  3.09265444e+00,\n",
       "        3.09265444e+00,  2.90969644e+00,  2.90969644e+00,  2.81821744e+00,\n",
       "        2.45230144e+00,  2.45230144e+00,  2.26934344e+00,  2.17786444e+00,\n",
       "        1.62899044e+00,  1.62899044e+00,  1.53751144e+00,  1.53751144e+00,\n",
       "        1.53751144e+00,  1.44603244e+00,  1.44603244e+00,  1.44603244e+00,\n",
       "        1.44603244e+00,  1.35455344e+00,  1.35455344e+00,  1.17159544e+00,\n",
       "        1.17159544e+00,  1.08011644e+00,  1.08011644e+00,  1.08011644e+00,\n",
       "        8.97158445e-01,  7.14200446e-01,  6.22721446e-01,  5.31242447e-01,\n",
       "        5.31242447e-01,  4.39763447e-01,  4.39763447e-01,  2.56805448e-01,\n",
       "        2.56805448e-01,  1.65326448e-01,  1.65326448e-01,  1.65326448e-01,\n",
       "        7.38474486e-02,  7.38474486e-02,  7.38474486e-02,  7.38474486e-02,\n",
       "        7.38474486e-02, -1.76315510e-02, -1.76315510e-02, -1.76315510e-02,\n",
       "       -1.09110551e-01, -1.09110551e-01, -1.09110551e-01, -1.09110551e-01,\n",
       "       -1.09110551e-01, -2.00589550e-01, -2.00589550e-01, -2.00589550e-01,\n",
       "       -2.00589550e-01, -2.00589550e-01, -2.92068550e-01, -2.92068550e-01,\n",
       "       -2.92068550e-01, -3.83547549e-01, -3.83547549e-01, -3.83547549e-01,\n",
       "       -3.83547549e-01, -3.83547549e-01, -3.83547549e-01, -3.83547549e-01,\n",
       "       -4.75026549e-01, -4.75026549e-01])"
      ]
     },
     "execution_count": 51,
     "metadata": {},
     "output_type": "execute_result"
    }
   ],
   "source": [
    "y"
   ]
  },
  {
   "cell_type": "code",
   "execution_count": 52,
   "id": "37e2b191",
   "metadata": {},
   "outputs": [],
   "source": [
    "# here i have  trained the linear regression model using sklearn on train data and predict the values for test data.\n",
    "\n",
    "from sklearn.model_selection import train_test_split\n",
    "X_train,X_test,y_train,y_test=train_test_split(X,y,test_size=0.3,random_state=0)\n"
   ]
  },
  {
   "cell_type": "code",
   "execution_count": 53,
   "id": "74f2a1e6",
   "metadata": {},
   "outputs": [
    {
     "data": {
      "text/plain": [
       "(array([[ 55],\n",
       "        [174],\n",
       "        [  1],\n",
       "        [376],\n",
       "        [ 43],\n",
       "        [301],\n",
       "        [ 46],\n",
       "        [  2],\n",
       "        [ 22],\n",
       "        [508],\n",
       "        [161],\n",
       "        [ 58],\n",
       "        [ 40],\n",
       "        [230],\n",
       "        [  5],\n",
       "        [437],\n",
       "        [ 88],\n",
       "        [  2],\n",
       "        [ 38],\n",
       "        [ 45],\n",
       "        [ 67],\n",
       "        [  8],\n",
       "        [ 11],\n",
       "        [186],\n",
       "        [ 23],\n",
       "        [  4],\n",
       "        [133],\n",
       "        [ 23],\n",
       "        [ 22],\n",
       "        [108],\n",
       "        [191],\n",
       "        [196],\n",
       "        [418],\n",
       "        [ 18],\n",
       "        [335],\n",
       "        [  5],\n",
       "        [361],\n",
       "        [401],\n",
       "        [ 71],\n",
       "        [183],\n",
       "        [ 77],\n",
       "        [487],\n",
       "        [  1],\n",
       "        [ 43],\n",
       "        [468],\n",
       "        [116],\n",
       "        [ 86],\n",
       "        [ 58],\n",
       "        [ 14],\n",
       "        [426],\n",
       "        [ 11],\n",
       "        [  6],\n",
       "        [413],\n",
       "        [  7],\n",
       "        [ 44],\n",
       "        [  6],\n",
       "        [216],\n",
       "        [432],\n",
       "        [ 31],\n",
       "        [258],\n",
       "        [161],\n",
       "        [234],\n",
       "        [  2],\n",
       "        [129],\n",
       "        [616],\n",
       "        [  7],\n",
       "        [  3],\n",
       "        [232],\n",
       "        [ 24],\n",
       "        [483],\n",
       "        [  3],\n",
       "        [381],\n",
       "        [ 19],\n",
       "        [ 24],\n",
       "        [251],\n",
       "        [481],\n",
       "        [182],\n",
       "        [  2],\n",
       "        [863],\n",
       "        [  9],\n",
       "        [268],\n",
       "        [306],\n",
       "        [ 21],\n",
       "        [289],\n",
       "        [  7],\n",
       "        [  9],\n",
       "        [  5],\n",
       "        [283],\n",
       "        [303],\n",
       "        [ 37],\n",
       "        [ 59],\n",
       "        [ 69],\n",
       "        [ 19],\n",
       "        [  2],\n",
       "        [ 91],\n",
       "        [ 73],\n",
       "        [330],\n",
       "        [ 63],\n",
       "        [  3],\n",
       "        [  2],\n",
       "        [250],\n",
       "        [161],\n",
       "        [  5],\n",
       "        [ 48],\n",
       "        [101],\n",
       "        [ 48],\n",
       "        [253],\n",
       "        [341],\n",
       "        [451],\n",
       "        [ 30],\n",
       "        [117],\n",
       "        [ 18],\n",
       "        [206]], dtype=int64),\n",
       " array([[120],\n",
       "        [  8],\n",
       "        [  4],\n",
       "        [460],\n",
       "        [219],\n",
       "        [ 86],\n",
       "        [ 12],\n",
       "        [  2],\n",
       "        [ 51],\n",
       "        [ 13],\n",
       "        [  7],\n",
       "        [ 43],\n",
       "        [317],\n",
       "        [  4],\n",
       "        [ 18],\n",
       "        [144],\n",
       "        [183],\n",
       "        [ 38],\n",
       "        [  8],\n",
       "        [ 22],\n",
       "        [217],\n",
       "        [169],\n",
       "        [157],\n",
       "        [458],\n",
       "        [252],\n",
       "        [274],\n",
       "        [  4],\n",
       "        [145],\n",
       "        [ 33],\n",
       "        [ 12],\n",
       "        [  6],\n",
       "        [333],\n",
       "        [182],\n",
       "        [  4],\n",
       "        [368],\n",
       "        [ 22],\n",
       "        [  7],\n",
       "        [397],\n",
       "        [156],\n",
       "        [ 23],\n",
       "        [244],\n",
       "        [340],\n",
       "        [ 40],\n",
       "        [ 91],\n",
       "        [ 21],\n",
       "        [  5],\n",
       "        [ 33],\n",
       "        [314],\n",
       "        [ 16]], dtype=int64),\n",
       " array([ 4.46483943e+00,  1.53508404e+01, -4.75026549e-01,  3.38295983e+01,\n",
       "         3.36709143e+00,  2.69686733e+01,  3.64152843e+00, -3.83547549e-01,\n",
       "         1.44603244e+00,  4.59048263e+01,  1.41616134e+01,  4.73927643e+00,\n",
       "         3.09265444e+00,  2.04736644e+01, -1.09110551e-01,  3.94098173e+01,\n",
       "         7.48364642e+00, -3.83547549e-01,  2.90969644e+00,  3.55004943e+00,\n",
       "         5.56258742e+00,  1.65326448e-01,  4.39763447e-01,  1.64485884e+01,\n",
       "         1.53751144e+00, -2.00589550e-01,  1.16002014e+01,  1.53751144e+00,\n",
       "         1.44603244e+00,  9.31322641e+00,  1.69059834e+01,  1.73633784e+01,\n",
       "         3.76717163e+01,  1.08011644e+00,  3.00789593e+01, -1.09110551e-01,\n",
       "         3.24574133e+01,  3.61165733e+01,  5.92850342e+00,  1.61741514e+01,\n",
       "         6.47737742e+00,  4.39837673e+01, -4.75026549e-01,  3.36709143e+00,\n",
       "         4.22456663e+01,  1.00450584e+01,  7.30068842e+00,  4.73927643e+00,\n",
       "         7.14200446e-01,  3.84035483e+01,  4.39763447e-01, -1.76315510e-02,\n",
       "         3.72143213e+01,  7.38474486e-02,  3.45857043e+00, -1.76315510e-02,\n",
       "         1.91929584e+01,  3.89524223e+01,  2.26934344e+00,  2.30350763e+01,\n",
       "         1.41616134e+01,  2.08395804e+01, -3.83547549e-01,  1.12342854e+01,\n",
       "         5.57845582e+01,  7.38474486e-02, -2.92068550e-01,  2.06566224e+01,\n",
       "         1.62899044e+00,  4.36178513e+01, -2.92068550e-01,  3.42869933e+01,\n",
       "         1.17159544e+00,  1.62899044e+00,  2.23947234e+01,  4.34348933e+01,\n",
       "         1.60826724e+01, -3.83547549e-01,  7.83798711e+01,  2.56805448e-01,\n",
       "         2.39498663e+01,  2.74260683e+01,  1.35455344e+00,  2.58709253e+01,\n",
       "         7.38474486e-02,  2.56805448e-01, -1.09110551e-01,  2.53220513e+01,\n",
       "         2.71516313e+01,  2.81821744e+00,  4.83075543e+00,  5.74554542e+00,\n",
       "         1.17159544e+00, -3.83547549e-01,  7.75808342e+00,  6.11146142e+00,\n",
       "         2.96215643e+01,  5.19667143e+00, -2.92068550e-01, -3.83547549e-01,\n",
       "         2.23032444e+01,  1.41616134e+01, -1.09110551e-01,  3.82448643e+00,\n",
       "         8.67287341e+00,  3.82448643e+00,  2.25776814e+01,  3.06278333e+01,\n",
       "         4.06905233e+01,  2.17786444e+00,  1.01365374e+01,  1.08011644e+00,\n",
       "         1.82781684e+01]),\n",
       " array([ 1.04109744e+01,  1.65326448e-01, -2.00589550e-01,  4.15138343e+01,\n",
       "         1.94673954e+01,  7.30068842e+00,  5.31242447e-01, -3.83547549e-01,\n",
       "         4.09892343e+00,  6.22721446e-01,  7.38474486e-02,  3.36709143e+00,\n",
       "         2.84323373e+01, -2.00589550e-01,  1.08011644e+00,  1.26064704e+01,\n",
       "         1.61741514e+01,  2.90969644e+00,  1.65326448e-01,  1.44603244e+00,\n",
       "         1.92844374e+01,  1.48934454e+01,  1.37956974e+01,  4.13308763e+01,\n",
       "         2.24862024e+01,  2.44987403e+01, -2.00589550e-01,  1.26979494e+01,\n",
       "         2.45230144e+00,  5.31242447e-01, -1.76315510e-02,  2.98960013e+01,\n",
       "         1.60826724e+01, -2.00589550e-01,  3.30977663e+01,  1.44603244e+00,\n",
       "         7.38474486e-02,  3.57506573e+01,  1.37042184e+01,  1.53751144e+00,\n",
       "         2.17543704e+01,  3.05363543e+01,  3.09265444e+00,  7.75808342e+00,\n",
       "         1.35455344e+00, -1.09110551e-01,  2.45230144e+00,  2.81579003e+01,\n",
       "         8.97158445e-01]))"
      ]
     },
     "execution_count": 53,
     "metadata": {},
     "output_type": "execute_result"
    }
   ],
   "source": [
    "X_train,X_test,y_train,y_test"
   ]
  },
  {
   "cell_type": "code",
   "execution_count": 54,
   "id": "a732da13",
   "metadata": {},
   "outputs": [
    {
     "data": {
      "text/html": [
       "<style>#sk-container-id-5 {color: black;background-color: white;}#sk-container-id-5 pre{padding: 0;}#sk-container-id-5 div.sk-toggleable {background-color: white;}#sk-container-id-5 label.sk-toggleable__label {cursor: pointer;display: block;width: 100%;margin-bottom: 0;padding: 0.3em;box-sizing: border-box;text-align: center;}#sk-container-id-5 label.sk-toggleable__label-arrow:before {content: \"▸\";float: left;margin-right: 0.25em;color: #696969;}#sk-container-id-5 label.sk-toggleable__label-arrow:hover:before {color: black;}#sk-container-id-5 div.sk-estimator:hover label.sk-toggleable__label-arrow:before {color: black;}#sk-container-id-5 div.sk-toggleable__content {max-height: 0;max-width: 0;overflow: hidden;text-align: left;background-color: #f0f8ff;}#sk-container-id-5 div.sk-toggleable__content pre {margin: 0.2em;color: black;border-radius: 0.25em;background-color: #f0f8ff;}#sk-container-id-5 input.sk-toggleable__control:checked~div.sk-toggleable__content {max-height: 200px;max-width: 100%;overflow: auto;}#sk-container-id-5 input.sk-toggleable__control:checked~label.sk-toggleable__label-arrow:before {content: \"▾\";}#sk-container-id-5 div.sk-estimator input.sk-toggleable__control:checked~label.sk-toggleable__label {background-color: #d4ebff;}#sk-container-id-5 div.sk-label input.sk-toggleable__control:checked~label.sk-toggleable__label {background-color: #d4ebff;}#sk-container-id-5 input.sk-hidden--visually {border: 0;clip: rect(1px 1px 1px 1px);clip: rect(1px, 1px, 1px, 1px);height: 1px;margin: -1px;overflow: hidden;padding: 0;position: absolute;width: 1px;}#sk-container-id-5 div.sk-estimator {font-family: monospace;background-color: #f0f8ff;border: 1px dotted black;border-radius: 0.25em;box-sizing: border-box;margin-bottom: 0.5em;}#sk-container-id-5 div.sk-estimator:hover {background-color: #d4ebff;}#sk-container-id-5 div.sk-parallel-item::after {content: \"\";width: 100%;border-bottom: 1px solid gray;flex-grow: 1;}#sk-container-id-5 div.sk-label:hover label.sk-toggleable__label {background-color: #d4ebff;}#sk-container-id-5 div.sk-serial::before {content: \"\";position: absolute;border-left: 1px solid gray;box-sizing: border-box;top: 0;bottom: 0;left: 50%;z-index: 0;}#sk-container-id-5 div.sk-serial {display: flex;flex-direction: column;align-items: center;background-color: white;padding-right: 0.2em;padding-left: 0.2em;position: relative;}#sk-container-id-5 div.sk-item {position: relative;z-index: 1;}#sk-container-id-5 div.sk-parallel {display: flex;align-items: stretch;justify-content: center;background-color: white;position: relative;}#sk-container-id-5 div.sk-item::before, #sk-container-id-5 div.sk-parallel-item::before {content: \"\";position: absolute;border-left: 1px solid gray;box-sizing: border-box;top: 0;bottom: 0;left: 50%;z-index: -1;}#sk-container-id-5 div.sk-parallel-item {display: flex;flex-direction: column;z-index: 1;position: relative;background-color: white;}#sk-container-id-5 div.sk-parallel-item:first-child::after {align-self: flex-end;width: 50%;}#sk-container-id-5 div.sk-parallel-item:last-child::after {align-self: flex-start;width: 50%;}#sk-container-id-5 div.sk-parallel-item:only-child::after {width: 0;}#sk-container-id-5 div.sk-dashed-wrapped {border: 1px dashed gray;margin: 0 0.4em 0.5em 0.4em;box-sizing: border-box;padding-bottom: 0.4em;background-color: white;}#sk-container-id-5 div.sk-label label {font-family: monospace;font-weight: bold;display: inline-block;line-height: 1.2em;}#sk-container-id-5 div.sk-label-container {text-align: center;}#sk-container-id-5 div.sk-container {/* jupyter's `normalize.less` sets `[hidden] { display: none; }` but bootstrap.min.css set `[hidden] { display: none !important; }` so we also need the `!important` here to be able to override the default hidden behavior on the sphinx rendered scikit-learn.org. See: https://github.com/scikit-learn/scikit-learn/issues/21755 */display: inline-block !important;position: relative;}#sk-container-id-5 div.sk-text-repr-fallback {display: none;}</style><div id=\"sk-container-id-5\" class=\"sk-top-container\"><div class=\"sk-text-repr-fallback\"><pre>LinearRegression()</pre><b>In a Jupyter environment, please rerun this cell to show the HTML representation or trust the notebook. <br />On GitHub, the HTML representation is unable to render, please try loading this page with nbviewer.org.</b></div><div class=\"sk-container\" hidden><div class=\"sk-item\"><div class=\"sk-estimator sk-toggleable\"><input class=\"sk-toggleable__control sk-hidden--visually\" id=\"sk-estimator-id-5\" type=\"checkbox\" checked><label for=\"sk-estimator-id-5\" class=\"sk-toggleable__label sk-toggleable__label-arrow\">LinearRegression</label><div class=\"sk-toggleable__content\"><pre>LinearRegression()</pre></div></div></div></div></div>"
      ],
      "text/plain": [
       "LinearRegression()"
      ]
     },
     "execution_count": 54,
     "metadata": {},
     "output_type": "execute_result"
    }
   ],
   "source": [
    "# here i have imported linear regression from sklearn.\n",
    "\n",
    "from sklearn.linear_model import LinearRegression\n",
    "reg =LinearRegression()\n",
    "reg.fit(X_train,y_train)"
   ]
  },
  {
   "cell_type": "code",
   "execution_count": 55,
   "id": "945c5d15",
   "metadata": {},
   "outputs": [
    {
     "data": {
      "text/plain": [
       "array([ 1.04109744e+01,  1.65326448e-01, -2.00589550e-01,  4.15138343e+01,\n",
       "        1.94673954e+01,  7.30068842e+00,  5.31242447e-01, -3.83547549e-01,\n",
       "        4.09892343e+00,  6.22721446e-01,  7.38474486e-02,  3.36709143e+00,\n",
       "        2.84323373e+01, -2.00589550e-01,  1.08011644e+00,  1.26064704e+01,\n",
       "        1.61741514e+01,  2.90969644e+00,  1.65326448e-01,  1.44603244e+00,\n",
       "        1.92844374e+01,  1.48934454e+01,  1.37956974e+01,  4.13308763e+01,\n",
       "        2.24862024e+01,  2.44987403e+01, -2.00589550e-01,  1.26979494e+01,\n",
       "        2.45230144e+00,  5.31242447e-01, -1.76315510e-02,  2.98960013e+01,\n",
       "        1.60826724e+01, -2.00589550e-01,  3.30977663e+01,  1.44603244e+00,\n",
       "        7.38474486e-02,  3.57506573e+01,  1.37042184e+01,  1.53751144e+00,\n",
       "        2.17543704e+01,  3.05363543e+01,  3.09265444e+00,  7.75808342e+00,\n",
       "        1.35455344e+00, -1.09110551e-01,  2.45230144e+00,  2.81579003e+01,\n",
       "        8.97158445e-01])"
      ]
     },
     "execution_count": 55,
     "metadata": {},
     "output_type": "execute_result"
    }
   ],
   "source": [
    "y_predict=reg.predict(X_test)\n",
    "y_predict"
   ]
  },
  {
   "cell_type": "code",
   "execution_count": 62,
   "id": "47bad962",
   "metadata": {},
   "outputs": [
    {
     "data": {
      "text/plain": [
       "array([ 1.04109744e+01,  1.65326448e-01, -2.00589550e-01,  4.15138343e+01,\n",
       "        1.94673954e+01,  7.30068842e+00,  5.31242447e-01, -3.83547549e-01,\n",
       "        4.09892343e+00,  6.22721446e-01,  7.38474486e-02,  3.36709143e+00,\n",
       "        2.84323373e+01, -2.00589550e-01,  1.08011644e+00,  1.26064704e+01,\n",
       "        1.61741514e+01,  2.90969644e+00,  1.65326448e-01,  1.44603244e+00,\n",
       "        1.92844374e+01,  1.48934454e+01,  1.37956974e+01,  4.13308763e+01,\n",
       "        2.24862024e+01,  2.44987403e+01, -2.00589550e-01,  1.26979494e+01,\n",
       "        2.45230144e+00,  5.31242447e-01, -1.76315510e-02,  2.98960013e+01,\n",
       "        1.60826724e+01, -2.00589550e-01,  3.30977663e+01,  1.44603244e+00,\n",
       "        7.38474486e-02,  3.57506573e+01,  1.37042184e+01,  1.53751144e+00,\n",
       "        2.17543704e+01,  3.05363543e+01,  3.09265444e+00,  7.75808342e+00,\n",
       "        1.35455344e+00, -1.09110551e-01,  2.45230144e+00,  2.81579003e+01,\n",
       "        8.97158445e-01])"
      ]
     },
     "execution_count": 62,
     "metadata": {},
     "output_type": "execute_result"
    }
   ],
   "source": [
    "y_test"
   ]
  },
  {
   "cell_type": "code",
   "execution_count": 65,
   "id": "1c592c82",
   "metadata": {},
   "outputs": [
    {
     "data": {
      "image/png": "[encoded data removed]",
      "text/plain": [
       "<Figure size 640x480 with 1 Axes>"
      ]
     },
     "metadata": {},
     "output_type": "display_data"
    }
   ],
   "source": [
    "\n",
    "# here i have presented the predicted values of train data.\n",
    "\n",
    "plt.scatter(X_train,y_train, color='red')\n",
    "plt.plot(X_train,reg.predict(X_train),color='blue')\n",
    "plt.title(\"Predictions of train on the number of 4s hits\")\n",
    "plt.xlabel(\"Total runs\",size=12)\n",
    "plt.ylabel(\"4s hits\",size=12)\n",
    "plt.show()"
   ]
  },
  {
   "cell_type": "code",
   "execution_count": 68,
   "id": "e341394d",
   "metadata": {},
   "outputs": [
    {
     "data": {
      "image/png": "[encoded data removed]",
      "text/plain": [
       "<Figure size 640x480 with 1 Axes>"
      ]
     },
     "metadata": {},
     "output_type": "display_data"
    }
   ],
   "source": [
    "# here i have presented the predicted values of test data.\n",
    "\n",
    "plt.scatter(X_test,y_test, color='red')\n",
    "plt.plot(X_test,reg.predict(X_test),color='blue')\n",
    "plt.title(\"Predictions of test on the number of 4s hits\")\n",
    "plt.xlabel(\"Total runs\",size=12)\n",
    "plt.ylabel(\"4s hits\",size=12)\n",
    "plt.show()"
   ]
  },
  {
   "cell_type": "code",
   "execution_count": 71,
   "id": "3eb7d479",
   "metadata": {},
   "outputs": [
    {
     "data": {
      "text/plain": [
       "47825.233672203394"
      ]
     },
     "execution_count": 71,
     "metadata": {},
     "output_type": "execute_result"
    }
   ],
   "source": [
    "# here i have calculated the mean square error in the predicted train value.\n",
    "\n",
    "mse_score = (np.square(X_train - reg.predict(X_train))).mean()\n",
    "mse_score"
   ]
  },
  {
   "cell_type": "code",
   "execution_count": 73,
   "id": "28254e06",
   "metadata": {},
   "outputs": [
    {
     "data": {
      "text/plain": [
       "31514.376066605302"
      ]
     },
     "execution_count": 73,
     "metadata": {},
     "output_type": "execute_result"
    }
   ],
   "source": [
    "# here i have calculated the mean square error in the predicted test value.\n",
    "\n",
    "mse_score_1 = (np.square(X_test-reg.predict(X_test))).mean()\n",
    "mse_score_1\n"
   ]
  },
  {
   "cell_type": "code",
   "execution_count": 74,
   "id": "e9b24752",
   "metadata": {},
   "outputs": [
    {
     "name": "stdout",
     "output_type": "stream",
     "text": [
      "Thank You.\n"
     ]
    }
   ],
   "source": [
    "print(\"Thank You.\")"
   ]
  },
  {
   "cell_type": "code",
   "execution_count": null,
   "id": "ca0014b9",
   "metadata": {},
   "outputs": [],
   "source": []
  }
 ],
 "metadata": {
  "kernelspec": {
   "display_name": "Python 3 (ipykernel)",
   "language": "python",
   "name": "python3"
  },
  "language_info": {
   "codemirror_mode": {
    "name": "ipython",
    "version": 3
   },
   "file_extension": ".py",
   "mimetype": "text/x-python",
   "name": "python",
   "nbconvert_exporter": "python",
   "pygments_lexer": "ipython3",
   "version": "3.11.2"
  }
 },
 "nbformat": 4,
 "nbformat_minor": 5
}
